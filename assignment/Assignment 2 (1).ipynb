{
 "cells": [
  {
   "cell_type": "markdown",
   "id": "5fc1b5d7",
   "metadata": {},
   "source": [
    "Q1 \n",
    "What will the following code display?\n",
    "numbers = [1, 2, 3, 4, 5]\n",
    "print(numbers[1:-5])\n",
    "Can you debug and fix the output? The code should return the entire list"
   ]
  },
  {
   "cell_type": "code",
   "execution_count": 1,
   "id": "2ec3b120",
   "metadata": {},
   "outputs": [
    {
     "name": "stdout",
     "output_type": "stream",
     "text": [
      "[1, 2, 3, 4, 5]\n"
     ]
    }
   ],
   "source": [
    "# It didn't print anything. We can use the following command to print the entire list:\n",
    "numbers = [1, 2, 3, 4, 5]\n",
    "print(numbers[:])\n"
   ]
  },
  {
   "cell_type": "markdown",
   "id": "9e053b9e",
   "metadata": {},
   "source": [
    "Q2\n",
    "Design a program that asks the user to enter a store’s sales for each day of the\n",
    "week. The amounts should be stored in a list. Use a loop to calculate the total sales for\n",
    "the week and display the result."
   ]
  },
  {
   "cell_type": "code",
   "execution_count": 2,
   "id": "7981ec96",
   "metadata": {},
   "outputs": [
    {
     "name": "stdout",
     "output_type": "stream",
     "text": [
      "Please enter the store's sale on Monday: 1\n",
      "Please enter the store's sale on Tuesday: 1\n",
      "Please enter the store's sale on Wednesday: 1\n",
      "Please enter the store's sale on Thursday: 1\n",
      "Please enter the store's sale on Friday: 1\n",
      "Please enter the store's sale on Saturday: 1\n",
      "Please enter the store's sale on Sunday: 1\n",
      "The total sale of the week is: 7\n"
     ]
    }
   ],
   "source": [
    "# Create a list of days of the week\n",
    "days_of_the_week = ['Monday', 'Tuesday', 'Wednesday', 'Thursday', 'Friday', 'Saturday', 'Sunday']\n",
    "\n",
    "# Initialize an empty list to store sales data for each day of the week\n",
    "weekly_store_sales = []\n",
    "\n",
    "# Use a loop to collect sales data for each day\n",
    "for day in days_of_the_week:\n",
    "    sales = int(input(f\"Please enter the store's sale on {day}: \"))\n",
    "    weekly_store_sales.append(sales)\n",
    "\n",
    "# Calculate the total sales for the week\n",
    "total_sales = sum(weekly_store_sales)\n",
    "\n",
    "# Print the total store's sales\n",
    "print(\"The total sale of the week is:\", total_sales)"
   ]
  },
  {
   "cell_type": "markdown",
   "id": "6b17d2bc",
   "metadata": {},
   "source": [
    "Q3. Create a list with at least 5 places you’d like to travel to. Make sure the list isn’t in\n",
    "alphabetical order\n",
    "● Print your list in its original order.\n",
    "● Use the sort() function to arrange your list in order and reprint your list.\n",
    "● Use the sort(reverse=True) and reprint your list."
   ]
  },
  {
   "cell_type": "code",
   "execution_count": 3,
   "id": "0d4b125f",
   "metadata": {},
   "outputs": [
    {
     "name": "stdout",
     "output_type": "stream",
     "text": [
      "['Paris', 'Atlanta', 'London', 'Cancun', 'Miami']\n",
      "['Atlanta', 'Cancun', 'London', 'Miami', 'Paris']\n",
      "['Paris', 'Miami', 'London', 'Cancun', 'Atlanta']\n"
     ]
    }
   ],
   "source": [
    "# Create list of places I would like to go\n",
    "place_to_visit = ['Paris', 'Atlanta', 'London', 'Cancun', 'Miami']\n",
    "# Print the list of places\n",
    "print(place_to_visit)\n",
    "# Sort the list of places\n",
    "place_to_visit.sort()\n",
    "print(place_to_visit)\n",
    "# Use the reverse in the function sort\n",
    "place_to_visit.sort(reverse=True)\n",
    "print(place_to_visit)"
   ]
  },
  {
   "cell_type": "markdown",
   "id": "7a5e64da",
   "metadata": {},
   "source": [
    "Q4. Write a program that creates a dictionary containing course numbers and the room\n",
    "numbers of the rooms where the courses meet. The program should also create a\n",
    "dictionary containing course numbers and the names of the instructors that teach each\n",
    "course. After that, the program should let the user enter a course number, then it should\n",
    "display the course’s room number, instructor, and meeting time.\n"
   ]
  },
  {
   "cell_type": "code",
   "execution_count": 4,
   "id": "d4bbb0d0",
   "metadata": {},
   "outputs": [
    {
     "name": "stdout",
     "output_type": "stream",
     "text": [
      "['Data602', 'Data605', 'Data606']\n",
      "Enter a course number: Data602\n",
      "Course Name:  Room1\n",
      "Instructor:  Mike\n",
      "Meeting Time:  6:00pm\n"
     ]
    }
   ],
   "source": [
    "# Create course dictionary\n",
    "course_room_numbers = {'Data602':'Room1', 'Data605': 'Room2', 'Data606':'Room3'}\n",
    "course_instructor_name = {'Data602':'Mike', 'Data605': 'Gavi', 'Data606':'Messi'}\n",
    "course_meeting_time = {'Data602':'6:00pm', 'Data605': '7:00pm', 'Data606':'8:00pm'}\n",
    "\n",
    "# List of courses\n",
    "courses = ['Data602','Data605','Data606']\n",
    "print(courses)\n",
    "\n",
    "# Ask the user to enter the name of the course\n",
    "user_course_number = input(\"Enter a course number: \")  \n",
    "\n",
    "# Check if the courses entered is in the courses list \n",
    "if user_course_number in courses:\n",
    "        print(\"Course Name: \", course_room_numbers[user_course_number] )\n",
    "        print(\"Instructor: \", course_instructor_name[user_course_number] )\n",
    "        print(\"Meeting Time: \", course_meeting_time[user_course_number] )\n",
    "else:\n",
    "        print(\"Course not found!\")\n"
   ]
  },
  {
   "cell_type": "markdown",
   "id": "415d4ec4",
   "metadata": {},
   "source": [
    "Q5. Write a program that keeps names and email addresses in a dictionary as\n",
    "key-value pairs. The program should then demonstrate the four options:\n",
    "● look up a person’s email address,\n",
    "● add a new name and email address,\n",
    "● change an existing email address, and\n",
    "● delete an existing name and email address."
   ]
  },
  {
   "cell_type": "code",
   "execution_count": 6,
   "id": "3e38bd5b",
   "metadata": {},
   "outputs": [
    {
     "name": "stdout",
     "output_type": "stream",
     "text": [
      "1. Look up an email address\n",
      "2. Add a new contact\n",
      "3. Change an email address\n",
      "4. Delete a contact\n",
      "Enter your choice (1/2/3/4): 2\n",
      "Enter the new name: kossi\n",
      "Enter the new email address: kossiakplaka@xxx.com\n",
      "Added kossi's email address: kossiakplaka@xxx.com\n"
     ]
    }
   ],
   "source": [
    "# Create a dictionary to store names and email addresses\n",
    "address_book = {}\n",
    "\n",
    "# Print options to the user\n",
    "print(\"1. Look up an email address\")\n",
    "print(\"2. Add a new contact\")\n",
    "print(\"3. Change an email address\")\n",
    "print(\"4. Delete a contact\")\n",
    "    \n",
    "    \n",
    "# Ask the user to enter a choice    \n",
    "choice = input(\"Enter your choice (1/2/3/4): \")\n",
    "    \n",
    "#  look up an email address   \n",
    "if choice == '1':\n",
    "    name = input(\"Enter the name to look up: \")\n",
    "    if name in address_book:\n",
    "        print(address_book[name])\n",
    "    else:\n",
    "        print(\"Name not found in the address book.\")\n",
    "        \n",
    "# Add a new name and email address\n",
    "elif choice == '2':\n",
    "    name = input(\"Enter the new name: \")\n",
    "    email = input(\"Enter the new email address: \")\n",
    "    address_book[name] = email\n",
    "    print(f\"Added {name}'s email address: {email}\")\n",
    "        \n",
    "# Change an existing email address       \n",
    "elif choice == '3':\n",
    "    name = input(\"Enter the name to change email address: \")\n",
    "    new_email = input(\"Enter the new email address: \")\n",
    "    if name in address_book:\n",
    "        address_book[name] = new_email\n",
    "        print(f\"Updated {name}'s email address to: {new_email}\")\n",
    "    else:\n",
    "        print(\"Name not found in the address book.\")\n",
    "        \n",
    "# Delete an existing name and email address.      \n",
    "elif choice == '4':\n",
    "    name = input(\"Enter the name to delete: \")\n",
    "    if name in address_book:\n",
    "        del address_book[name]\n",
    "        print(f\"Deleted {name}'s contact information.\")\n",
    "    else:\n",
    "        print(\"Name not found in the address book.\")\n",
    "        \n",
    "        \n",
    "else:\n",
    "    print(\"Invalid choice. Please enter a valid option.\")\n"
   ]
  }
 ],
 "metadata": {
  "kernelspec": {
   "display_name": "Python 3 (ipykernel)",
   "language": "python",
   "name": "python3"
  },
  "language_info": {
   "codemirror_mode": {
    "name": "ipython",
    "version": 3
   },
   "file_extension": ".py",
   "mimetype": "text/x-python",
   "name": "python",
   "nbconvert_exporter": "python",
   "pygments_lexer": "ipython3",
   "version": "3.9.13"
  }
 },
 "nbformat": 4,
 "nbformat_minor": 5
}
